{
 "cells": [
  {
   "cell_type": "markdown",
   "metadata": {},
   "source": [
    "# Learning Bitmaths for Bitmaps"
   ]
  },
  {
   "cell_type": "markdown",
   "metadata": {},
   "source": [
    "## Introduction"
   ]
  },
  {
   "cell_type": "markdown",
   "metadata": {},
   "source": [
    "Bitmaps are used to index data compactly. This can be extremely useful when building blockchain applications in resource constrained environments. A notable use case pioneered by Uniswap V3 is for concentrated liquidity AMMs which need to often and efficiently query the next chunk of available liquidity to swap through."
   ]
  },
  {
   "cell_type": "markdown",
   "metadata": {},
   "source": [
    "A bitmap is made up of **words** which are chunks of binary strings. We query each word by passing it's index into a map from. We need to chunk out the map into separate words because because a single integer can only hold a finite number of bits (*note: Python ints are 32 bits long so some details may change depending on the language you're using, but the general logic is still the same.*)"
   ]
  },
  {
   "cell_type": "code",
   "execution_count": null,
   "metadata": {},
   "outputs": [],
   "source": [
    "#Initializing the bitmap and 3 words\n",
    "bitmap = {} \n",
    "bitmap[0] = 0\n",
    "bitmap[1] = 0\n",
    "bitmap[2] = 0"
   ]
  },
  {
   "cell_type": "markdown",
   "metadata": {},
   "source": [
    "The first bit trick used in the bitmap is the equivalence of >> x and floor division by 2 ** x. This is because for every bit you shift right, you floor divide the number by 2. So by doing it x times, we get floor division by 2 ** x. \n",
    "\n",
    "This is used to figure out which word to check for a given tick since it perfectly segments the global tick indices into the number of words there are i.e., if we the max number of ticks is 100, and each word is 32 bits, then we need 4 words to house all of the tick data (1 -> 0-31, 2 -> 32-63, 3 -> 64-95, 4 -> 96-99). "
   ]
  },
  {
   "cell_type": "code",
   "execution_count": null,
   "metadata": {},
   "outputs": [],
   "source": [
    "assert int(21 / 32) == 21 >> 5 == 0\n",
    "print(int(21 / 32), 21 >> 5, 0)\n",
    "\n",
    "assert int(61 / 32) == 61 >> 5 == 1\n",
    "print(int(61 / 32), 61 >> 5, 2)\n",
    "\n",
    "assert int(66 / 32) == 66 >> 5 == 2\n",
    "print(int(66 / 32), 66 >> 5, 2)"
   ]
  },
  {
   "cell_type": "markdown",
   "metadata": {},
   "source": [
    "We also use modulo division to figure out what the \"local index\" is of tick i.e., the index within a particular word."
   ]
  },
  {
   "cell_type": "code",
   "execution_count": null,
   "metadata": {},
   "outputs": [],
   "source": [
    "assert 21 % 32 == 21\n",
    "print(21 % 32, 21)\n",
    "\n",
    "assert 61 % 32 == 29\n",
    "print(61 % 32, 29)\n",
    "\n",
    "assert 66 % 32 == 2\n",
    "print(66 % 32, 2)"
   ]
  },
  {
   "cell_type": "markdown",
   "metadata": {},
   "source": [
    "Let's put them together to create a function which returns the position."
   ]
  },
  {
   "cell_type": "code",
   "execution_count": null,
   "metadata": {},
   "outputs": [],
   "source": [
    "def position(currentTick: int) -> tuple(int, int):\n",
    "    # Remember that >> 5 is equivalent to floor division by 2**5\n",
    "    wordIndex = currentTick >> 5\n",
    "\n",
    "    # Used to determine the \"local index\" of the tick within the word.\n",
    "    localTickIndex = currentTick % 32\n",
    "    return wordIndex, localTickIndex \n"
   ]
  },
  {
   "cell_type": "markdown",
   "metadata": {},
   "source": [
    "The next bit trick used is the creation of a mask that can be used to flip ticks on and off. This trick uses the fact that 1 is represented in binary as \"0...001\" . Thus by bitshifting it leftward by x bits, we ensure that there is now a 1, x places to the left i.e., index (*note: indexing is left to right in binary*).\n",
    "\n",
    "This max will be used in bitwise XOR operations in the future to turn ticks on (if they're off and are being initialized - first liquidity is being deposited), or off (if they're on and being unitialized - all liquidity is being withdrawn)."
   ]
  },
  {
   "cell_type": "code",
   "execution_count": null,
   "metadata": {},
   "outputs": [],
   "source": [
    "# 1 == \"0...001\"\n",
    "binaryString = 1\n",
    "print(\"{0:b}\".format(binaryString))\n",
    "\n",
    "#1 << 5 == \"0...0100000\"\n",
    "binaryString = binaryString << 5\n",
    "print(\"{0:b}\".format(binaryString))\n",
    "\n",
    "# 1 << 3 == \"0...01000\"\n",
    "# 1 << 5 ^ 1 << 3 == \"0...0101000\"\n",
    "binaryString ^= 1 << 3\n",
    "print(\"{0:b}\".format(binaryString))\n"
   ]
  },
  {
   "cell_type": "markdown",
   "metadata": {},
   "source": [
    "Exclusive or, XOR for short, is a logical operation which evaluates to true if only one of the arguments is true. I.e., 1 ^ 0 == 0 ^ 1 == 1 and 0 ^ 0 == 1 ^ 1 == 0 (*note: in most languages XOR is called by using ^ or ^= if we want to apply it and store it to the same string*).\n",
    "\n",
    "Because we use XOR, before flipping a bit on we must check that it has not already been initialized. If we do not check this, we risk uninitializing ticks that should remain initialized. This can be done dynamically when updating the state to increment liquidity. For now let's assume that this check was already done."
   ]
  },
  {
   "cell_type": "code",
   "execution_count": null,
   "metadata": {},
   "outputs": [],
   "source": [
    "# 1 == \"0...001\"\n",
    "binaryString = 1\n",
    "print(\"{0:b}\".format(binaryString))\n",
    "\n",
    "#1 << 5 == \"0...0100000\"\n",
    "binaryString = binaryString << 5\n",
    "print(\"{0:b}\".format(binaryString))\n",
    "\n",
    "#Turning a bit on at index 3\n",
    "# 1 << 3 == \"0...01000\"\n",
    "# 1 << 5 ^= 1 << 3 == \"0...0101000\"\n",
    "binaryString ^= 1 << 3\n",
    "print(\"{0:b}\".format(binaryString))\n",
    "\n",
    "# Turning a bit off at index 3\n",
    "# binaryString ^= 1 << 3 == \"0...0100000\"\n",
    "binaryString ^= 1 << 3\n",
    "print(\"{0:b}\".format(binaryString))\n"
   ]
  }
 ],
 "metadata": {
  "kernelspec": {
   "display_name": "Python 3.8.3 64-bit",
   "language": "python",
   "name": "python3"
  },
  "language_info": {
   "codemirror_mode": {
    "name": "ipython",
    "version": 3
   },
   "file_extension": ".py",
   "mimetype": "text/x-python",
   "name": "python",
   "nbconvert_exporter": "python",
   "pygments_lexer": "ipython3",
   "version": "3.8.3"
  },
  "orig_nbformat": 4,
  "vscode": {
   "interpreter": {
    "hash": "aee8b7b246df8f9039afb4144a1f6fd8d2ca17a180786b69acc140d282b71a49"
   }
  }
 },
 "nbformat": 4,
 "nbformat_minor": 2
}

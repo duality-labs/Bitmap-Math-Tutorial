{
 "cells": [
  {
   "cell_type": "markdown",
   "metadata": {},
   "source": [
    "# Learning Bitmaths for Bitmaps"
   ]
  },
  {
   "cell_type": "markdown",
   "metadata": {},
   "source": [
    "## Introduction"
   ]
  },
  {
   "cell_type": "markdown",
   "metadata": {},
   "source": [
    "Bitmaps are used to index data compactly. This can be extremely useful when building blockchain applications in resource constrained environments. A notable use case pioneered by Uniswap V3 is for concentrated liquidity AMMs which need to often and efficiently query the next chunk of available liquidity to swap through."
   ]
  },
  {
   "cell_type": "markdown",
   "metadata": {},
   "source": [
    "A bitmap is made up of **words** which are chunks of binary strings. We query each word by passing it's index into a map from. We need to chunk out the map into separate words because because a single integer can only hold a finite number of bits (*note: Python ints are 32 bits long so some details may change depending on the language you're using, but the general logic is still the same.*)"
   ]
  },
  {
   "cell_type": "code",
   "execution_count": 769,
   "metadata": {},
   "outputs": [],
   "source": [
    "#Initializing the bitmap and 3 words\n",
    "bitmap = {} \n",
    "bitmap[-2] = 0\n",
    "bitmap[-1] = 0\n",
    "bitmap[0] = 0\n",
    "bitmap[1] = 0\n",
    "bitmap[2] = 0"
   ]
  },
  {
   "cell_type": "markdown",
   "metadata": {},
   "source": [
    "## Flipping Ticks"
   ]
  },
  {
   "cell_type": "markdown",
   "metadata": {},
   "source": [
    "### Right Shifts for Floor Division"
   ]
  },
  {
   "cell_type": "markdown",
   "metadata": {},
   "source": [
    "The first bit trick used in the bitmap is the equivalence of >> x and floor division by 2 ** x. This is because for every bit you shift right, you floor divide the number by 2. So by doing it x times, we get floor division by 2 ** x. \n",
    "\n",
    "This is used to figure out which word to check for a given tick since it perfectly segments the global tick indices into the number of words there are i.e., if we the max number of ticks is 100, and each word is 32 bits, then we need 4 words to house all of the tick data (1 -> 0-31, 2 -> 32-63, 3 -> 64-95, 4 -> 96-99). "
   ]
  },
  {
   "cell_type": "code",
   "execution_count": 770,
   "metadata": {},
   "outputs": [
    {
     "name": "stdout",
     "output_type": "stream",
     "text": [
      "0 0 0\n",
      "1 1 2\n",
      "2 2 2\n"
     ]
    }
   ],
   "source": [
    "assert int(21 / 32) == 21 >> 5 == 0\n",
    "print(int(21 / 32), 21 >> 5, 0)\n",
    "\n",
    "assert int(61 / 32) == 61 >> 5 == 1\n",
    "print(int(61 / 32), 61 >> 5, 2)\n",
    "\n",
    "assert int(66 / 32) == 66 >> 5 == 2\n",
    "print(int(66 / 32), 66 >> 5, 2)"
   ]
  },
  {
   "cell_type": "markdown",
   "metadata": {},
   "source": [
    "### Modulo Division to Retrieve Local Tick Index"
   ]
  },
  {
   "cell_type": "markdown",
   "metadata": {},
   "source": [
    "We also use modulo division to figure out what the \"local index\" is of tick i.e., the index within a particular word."
   ]
  },
  {
   "cell_type": "code",
   "execution_count": 771,
   "metadata": {},
   "outputs": [
    {
     "name": "stdout",
     "output_type": "stream",
     "text": [
      "21 21\n",
      "29 29\n",
      "2 2\n"
     ]
    }
   ],
   "source": [
    "assert 21 % 32 == 21\n",
    "print(21 % 32, 21)\n",
    "\n",
    "assert 61 % 32 == 29\n",
    "print(61 % 32, 29)\n",
    "\n",
    "assert 66 % 32 == 2\n",
    "print(66 % 32, 2)"
   ]
  },
  {
   "cell_type": "markdown",
   "metadata": {},
   "source": [
    "### Grabbing the Local Tick Index and Word Index"
   ]
  },
  {
   "cell_type": "markdown",
   "metadata": {},
   "source": [
    "Let's put them together to create a function which returns the position."
   ]
  },
  {
   "cell_type": "code",
   "execution_count": 772,
   "metadata": {},
   "outputs": [],
   "source": [
    "from typing import Tuple\n",
    "\n",
    "def position(tickIndex : int) -> Tuple[int, int]:\n",
    "    # Remember that >> 5 is equivalent to floor division by 2**5\n",
    "    wordIndex = tickIndex >> 5\n",
    "\n",
    "    # Used to determine the \"local index\" of the tick within the word.\n",
    "    localTickIndex = tickIndex % 32\n",
    "    return wordIndex, localTickIndex\n"
   ]
  },
  {
   "cell_type": "markdown",
   "metadata": {},
   "source": [
    "### Left Shift for \"Mask\" Generation"
   ]
  },
  {
   "cell_type": "markdown",
   "metadata": {},
   "source": [
    "The next bit trick used is the creation of a mask that can be used to flip ticks on and off. This trick uses the fact that 1 is represented in binary as \"0...001\" . Thus by bitshifting it leftward by x bits, we ensure that there is now a 1, x places to the left i.e., index (*note: indexing is left to right in binary*).\n",
    "\n",
    "This max will be used in bitwise XOR operations in the future to turn ticks on (if they're off and are being initialized - first liquidity is being deposited), or off (if they're on and being unitialized - all liquidity is being withdrawn)."
   ]
  },
  {
   "cell_type": "code",
   "execution_count": 773,
   "metadata": {},
   "outputs": [
    {
     "name": "stdout",
     "output_type": "stream",
     "text": [
      "00000000000000000000000000000001\n",
      "00000000000000000000000000100000\n",
      "00000000000000000000000000101000\n"
     ]
    }
   ],
   "source": [
    "# 1 == \"0...001\"\n",
    "binaryString = 1\n",
    "print(\"{0:032b}\".format(binaryString))\n",
    "\n",
    "#1 << 5 == \"0...0100000\"\n",
    "binaryString = binaryString << 5\n",
    "print(\"{0:032b}\".format(binaryString))\n",
    "\n",
    "# 1 << 3 == \"0...01000\"\n",
    "# 1 << 5 ^ 1 << 3 == \"0...0101000\"\n",
    "binaryString ^= 1 << 3\n",
    "print(\"{0:032b}\".format(binaryString))\n"
   ]
  },
  {
   "cell_type": "markdown",
   "metadata": {},
   "source": [
    "### Exclusive Ors (XORs) for Flipping Bits "
   ]
  },
  {
   "cell_type": "markdown",
   "metadata": {},
   "source": [
    "Exclusive or, XOR for short, is a logical operation which evaluates to true if only one of the arguments is true. I.e., 1 ^ 0 == 0 ^ 1 == 1 and 0 ^ 0 == 1 ^ 1 == 0 (*note: in most languages XOR is called by using ^ or ^= if we want to apply it and store it to the same string*).\n",
    "\n",
    "Because we use XOR, before flipping a bit on we must check that it has not already been initialized. If we do not check this, we risk uninitializing ticks that should remain initialized. This can be done dynamically when updating the state to increment liquidity. For now let's assume that this check was already done."
   ]
  },
  {
   "cell_type": "code",
   "execution_count": 774,
   "metadata": {},
   "outputs": [
    {
     "name": "stdout",
     "output_type": "stream",
     "text": [
      "00000000000000000000000000000001\n",
      "00000000000000000000000000100000\n",
      "00000000000000000000000000101000\n",
      "00000000000000000000000000100000\n"
     ]
    }
   ],
   "source": [
    "# 1 == \"0...001\"\n",
    "binaryString = 1\n",
    "print(\"{0:032b}\".format(binaryString))\n",
    "\n",
    "#1 << 5 == \"0...0100000\"\n",
    "binaryString = binaryString << 5\n",
    "print(\"{0:032b}\".format(binaryString))\n",
    "\n",
    "#Turning a bit on at index 3\n",
    "# 1 << 3 == \"0...01000\"\n",
    "# 1 << 5 ^= 1 << 3 == \"0...0101000\"\n",
    "binaryString ^= 1 << 3\n",
    "print(\"{0:032b}\".format(binaryString))\n",
    "\n",
    "# Turning a bit off at index 3\n",
    "# binaryString ^= 1 << 3 == \"0...0100000\"\n",
    "binaryString ^= 1 << 3\n",
    "print(\"{0:032b}\".format(binaryString))\n"
   ]
  },
  {
   "cell_type": "markdown",
   "metadata": {},
   "source": [
    "### Putting it all Together"
   ]
  },
  {
   "cell_type": "markdown",
   "metadata": {},
   "source": [
    "Putting this all together in a single function lets us retrieve which tick we are adding/removing liquidity to and flip the bit corresponding to the index when necessary (*note: since maps are mutable in python, it is in essence \"passed by reference\" so we can edit it in a function - excuse my bad programming, should've made it a class :/*)"
   ]
  },
  {
   "cell_type": "code",
   "execution_count": 775,
   "metadata": {},
   "outputs": [],
   "source": [
    "def flipTick(bitmap : dict, tickIndex : int):\n",
    "    wordIndex, localTickIndex = position(tickIndex)\n",
    "    mask = 1 << localTickIndex\n",
    "    bitmap[wordIndex] ^= mask"
   ]
  },
  {
   "cell_type": "markdown",
   "metadata": {},
   "source": [
    "Let's see this in action."
   ]
  },
  {
   "cell_type": "code",
   "execution_count": 776,
   "metadata": {},
   "outputs": [
    {
     "name": "stdout",
     "output_type": "stream",
     "text": [
      "\n",
      " --- BEFORE FIRST FLIP ---\n",
      "00000000000000000000000000000000 00000000000000000000000000000000 00000000000000000000000000000000 00000000000000000000000000000000 00000000000000000000000000000000\n",
      "\n",
      " --- AFTER FIRST FLIP ---\n",
      "10000000000000000000000000000000 00001000000000000000000000000000 00000000001000000000000000001010 00100000000000000000000000000000 00000000000000000000000000000100\n",
      "\n",
      " --- AFTER SECOND FLIP ---\n",
      "00000000000000000000000000000000 00000000000000000000000000000000 00000000000000000000000000000000 00000000000000000000000000000000 00000000000000000000000000000000\n"
     ]
    }
   ],
   "source": [
    "print(\"\\n --- BEFORE FIRST FLIP ---\")\n",
    "print(\"{0:032b}\".format(bitmap[-2]),\n",
    "    \"{0:032b}\".format(bitmap[-1]), \n",
    "    \"{0:032b}\".format(bitmap[0]), \n",
    "    \"{0:032b}\".format(bitmap[1]), \n",
    "    \"{0:032b}\".format(bitmap[2]))\n",
    "\n",
    "flipTick(bitmap, -33)\n",
    "flipTick(bitmap, -5)\n",
    "flipTick(bitmap, 1)\n",
    "flipTick(bitmap, 3)\n",
    "flipTick(bitmap, 21)\n",
    "flipTick(bitmap, 61)\n",
    "flipTick(bitmap, 66)\n",
    "\n",
    "print(\"\\n --- AFTER FIRST FLIP ---\")\n",
    "print(\"{0:032b}\".format(bitmap[-2]),\n",
    "    \"{0:032b}\".format(bitmap[-1]), \n",
    "    \"{0:032b}\".format(bitmap[0]), \n",
    "    \"{0:032b}\".format(bitmap[1]), \n",
    "    \"{0:032b}\".format(bitmap[2]))\n",
    "\n",
    "flipTick(bitmap, -33)\n",
    "flipTick(bitmap, -5)\n",
    "flipTick(bitmap, 1)\n",
    "flipTick(bitmap, 3)\n",
    "flipTick(bitmap, 21)\n",
    "flipTick(bitmap, 61)\n",
    "flipTick(bitmap, 66)\n",
    "\n",
    "print(\"\\n --- AFTER SECOND FLIP ---\")\n",
    "print(\"{0:032b}\".format(bitmap[-2]),\n",
    "    \"{0:032b}\".format(bitmap[-1]), \n",
    "    \"{0:032b}\".format(bitmap[0]), \n",
    "    \"{0:032b}\".format(bitmap[1]), \n",
    "    \"{0:032b}\".format(bitmap[2]))\n",
    "\n",
    "# Reflipping to initialize map for functions that come later \n",
    "flipTick(bitmap, -33)\n",
    "flipTick(bitmap, -5)\n",
    "flipTick(bitmap, 1)\n",
    "flipTick(bitmap, 3)\n",
    "flipTick(bitmap, 21)\n",
    "flipTick(bitmap, 61)\n",
    "flipTick(bitmap, 66)"
   ]
  },
  {
   "cell_type": "markdown",
   "metadata": {},
   "source": [
    "## Finding the Next Tick"
   ]
  },
  {
   "cell_type": "markdown",
   "metadata": {},
   "source": [
    "### Definitions"
   ]
  },
  {
   "cell_type": "markdown",
   "metadata": {},
   "source": [
    "**Current Tick**: The tick with the best priced liquidity for a given swap direction.\n",
    "\n",
    "**Direction**: Whether a trade is token 0 for token 1 or token 1 for token 0\n",
    "\n",
    "**Next Tick**: The tick with the next best priced liquidity for a given a swap direction. After we deplete the liquidity at the current tick, we need to efficiently find the next tick to swap through."
   ]
  },
  {
   "cell_type": "markdown",
   "metadata": {},
   "source": [
    "### Finding Next Tick for Swaps 0 to 1"
   ]
  },
  {
   "cell_type": "markdown",
   "metadata": {},
   "source": [
    "We start by looking at a case where the next tick is within the same word. Let's say we are starting at the tick indexed 3 in the word indexed by 0. Based on previous values set, the next tick index should be 21."
   ]
  },
  {
   "cell_type": "markdown",
   "metadata": {},
   "source": [
    "To find the next index within a word, we first have to construct a mask which sets every bit with an index greater than the index of the local tick index to 1. \n",
    "\n",
    "An efficient way to do this is to first bitshift a 1 into the index of the local tick index. By subtracting 1 from this number we make it so every bit before the local index is now a 1 (*note: for a lesson on binary addition and subtraction check out these __[lecture slides](https://faculty-web.msoe.edu/johnsontimoj/Common/FILES/binary_addition_subtraction.pdf)__*). Finally we bitwise negate the mask to so to make sure every bit with an index greater than or equal to the local index is a 1, and everything before it is a 0 (*note: we have to add (1 << 32) since there is no unsigned integer type in python. By bitshifting left a 1 32 places, we get the binary of unsigned integer post-negation. *)"
   ]
  },
  {
   "cell_type": "code",
   "execution_count": 777,
   "metadata": {},
   "outputs": [
    {
     "name": "stdout",
     "output_type": "stream",
     "text": [
      "\n",
      "mask = 1 << localTickIndex\n",
      "00000000000000000000000000010000\n",
      "\n",
      "mask -= 1\n",
      "00000000000000000000000000001111\n",
      "\n",
      "mask = ~(mask)  + (1 << 32)\n",
      "11111111111111111111111111110000\n",
      "\n",
      "mask = ~((1 << localTickIndex) - 1) + (1 << 32)\n",
      "11111111111111111111111111110000\n",
      "\n",
      "bitmap[wordIndex]\n",
      "00000000001000000000000000001010\n"
     ]
    }
   ],
   "source": [
    "currentTick = 3\n",
    "wordIndex, localTickIndex = position(currentTick + 1)\n",
    "\n",
    "print(\"\\nmask = 1 << localTickIndex\")\n",
    "mask = 1 << localTickIndex\n",
    "print(\"{0:032b}\".format(mask))\n",
    "\n",
    "print(\"\\nmask -= 1\")\n",
    "mask -= 1 \n",
    "print(\"{0:032b}\".format(mask))\n",
    "\n",
    "# We need to add 1 << 32 since python doesn't have unsigned integers, \n",
    "# but normally just using ~ would be enough.\n",
    "print(\"\\nmask = ~(mask)  + (1 << 32)\")\n",
    "mask = ~(mask)  + (1 << 32)\n",
    "print(\"{0:032b}\".format(mask))\n",
    "\n",
    "# In a single line it looks as follows:\n",
    "print(\"\\nmask = ~((1 << localTickIndex) - 1) + (1 << 32)\")\n",
    "mask = ~((1 << localTickIndex) - 1) + (1 << 32)\n",
    "print(\"{0:032b}\".format(mask))\n",
    "\n",
    "print(\"\\nbitmap[wordIndex]\")\n",
    "print(\"{0:032b}\".format(bitmap[wordIndex]))"
   ]
  },
  {
   "cell_type": "markdown",
   "metadata": {},
   "source": [
    "We then call do a bitwise AND on the word and the mask to store a string where all of the bits that correspond to ticks **with liquidity** and with indices greater than or equal to the local index are 1. "
   ]
  },
  {
   "cell_type": "code",
   "execution_count": 778,
   "metadata": {},
   "outputs": [
    {
     "name": "stdout",
     "output_type": "stream",
     "text": [
      "\n",
      "masked = bitmap[wordIndex] & mask\n",
      "00000000001000000000000000000000\n"
     ]
    }
   ],
   "source": [
    "print(\"\\nmasked = bitmap[wordIndex] & mask\")\n",
    "masked = bitmap[wordIndex] & mask\n",
    "print(\"{0:032b}\".format(masked))"
   ]
  },
  {
   "cell_type": "markdown",
   "metadata": {},
   "source": [
    "Before proceeding with anything else we want to make sure that there are actually ticks left to swap through that are indexed within the current word. A convenient way to do this is to just compare it to 0 and see if they're not the same. If there aren't we want to hop to the next word and check there.  "
   ]
  },
  {
   "cell_type": "code",
   "execution_count": 779,
   "metadata": {},
   "outputs": [
    {
     "name": "stdout",
     "output_type": "stream",
     "text": [
      "True\n"
     ]
    }
   ],
   "source": [
    "initialized = masked != 0\n",
    "# Will evaluate to True since we can see that there are bits indexed by 3 and 21.\n",
    "print(initialized)"
   ]
  },
  {
   "cell_type": "markdown",
   "metadata": {},
   "source": [
    "Least significant bit is a way to find the next (larger) initialized tick. It requires that the input x is not 0 since we should just skip to the next word in that case.\n",
    "\n",
    "The function relies on a parameter for the next index r being decremented sufficiently. It ensures this by checking whether the masked word shares any bits with a max uint (*Note: (1 << y) - 1 is the max uint of y*) and either bit shifting right x by the number of bits of the current max uint (\"y\" from previous note), or subtracting from the number of bits from the index.\n",
    "\n",
    "This can be confusing at first but one way to understand what's going on is:\n",
    "- We can at most bitshift right 31 places (31 = 16 + 8 + 4 + 2 + 1), \n",
    "- When the next tick (lowest index higher than current) in the masked word x is at an index greater than 15, we know there are at least 16 bits of space until we reach. \n",
    "- By bitshifting right 16 places in this case and not subtracting 16 from r, we are saying that 16 < r <= 31 since we can now only decrement r by 15 at maximum (15 = 8 + 4 + 2 + 1)\n",
    "- If the next tick (lowest index higher than current) in the masked word x had been at an index less than or equal to 15 then we would have subtracted 16 from r (r = 31 - 16 = 15) telling us that r <= 15\n",
    "- Repeat these steps for 8, 4, 2, 1\n",
    "\n",
    "*Note this is basically a binary search for finding the next tick number*"
   ]
  },
  {
   "cell_type": "code",
   "execution_count": 780,
   "metadata": {},
   "outputs": [],
   "source": [
    "def leastSignificantBit(x : int) -> int: \n",
    "    assert x != 0\n",
    "\n",
    "    r = 31\n",
    "    #print(\"\\n\")\n",
    "    #print(\"x:\", \"{0:032b}\".format(x))\n",
    "    #print(\"r:\", r)\n",
    "    #print(\"((1 << 16) - 1):\", \"{0:032b}\".format(((1 << 16) - 1)))\n",
    "    if (x & ((1 << 16) - 1) > 0):\n",
    "        r -= 16\n",
    "    else:\n",
    "        x >>= 16\n",
    "    #print(\"\\n\")\n",
    "    #print(\"x:\", \"{0:032b}\".format(x))\n",
    "    #print(\"r:\", r)\n",
    "    #print(\"((1 << 8) - 1):\", \"{0:032b}\".format(((1 << 8) - 1)))\n",
    "    if (x & ((1 << 8) - 1) > 0):\n",
    "        r -= 8\n",
    "    else:\n",
    "        x >>= 8\n",
    "    #print(\"\\n\")\n",
    "    #print(\"x:\", \"{0:032b}\".format(x))\n",
    "    #print(\"r:\", r)\n",
    "    #print(\"((1 << 4) - 1):\", \"{0:032b}\".format(((1 << 4) - 1)))\n",
    "    if (x & ((1 << 4) - 1) > 0):\n",
    "        r -= 4\n",
    "    else:\n",
    "        x >>= 4\n",
    "    #print(\"\\n\")\n",
    "    #print(\"x:\", \"{0:032b}\".format(x))\n",
    "    #print(\"r:\", r)\n",
    "    if (x & ((1 << 2) - 1) > 0):\n",
    "        r -= 2\n",
    "    else:\n",
    "        x >>= 2\n",
    "    #print(\"\\n\")\n",
    "    #print(\"x:\", \"{0:032b}\".format(x))\n",
    "    #print(\"r:\", r)\n",
    "    if (x & 1 > 0):\n",
    "        r -= 1\n",
    "    return r"
   ]
  },
  {
   "cell_type": "markdown",
   "metadata": {},
   "source": [
    "Some potentially helpful print statements to understand what's going on."
   ]
  },
  {
   "cell_type": "code",
   "execution_count": 781,
   "metadata": {},
   "outputs": [],
   "source": [
    "#print(leastSignificantBit(masked))\n",
    "#print(\"{0:032b}\".format(masked))\n",
    "#print(currentTick + 1 + leastSignificantBit(masked) - localTickIndex)\n",
    "#print(2 ** 32 - 1)\n",
    "#print(localTickIndex)\n",
    "#print(\"{0:032b}\".format((1 << 32) - 1))"
   ]
  },
  {
   "cell_type": "markdown",
   "metadata": {},
   "source": [
    "If initialized is false, there are no ticks left in this direction so we signal that the next tick to check is going to be the first bit in the following word. When we run the code, we see that the correct next tick was found (21)!"
   ]
  },
  {
   "cell_type": "code",
   "execution_count": 782,
   "metadata": {},
   "outputs": [
    {
     "name": "stdout",
     "output_type": "stream",
     "text": [
      "21\n"
     ]
    }
   ],
   "source": [
    "if initialized:\n",
    "    next = currentTick + 1 + (leastSignificantBit(masked) - localTickIndex)\n",
    "else:\n",
    "    next = currentTick + 1 + 32 - localTickIndex\n",
    "\n",
    "print(next)"
   ]
  },
  {
   "cell_type": "markdown",
   "metadata": {},
   "source": [
    "Automating the rest of the tick search until there are no more initialized ticks. Notice that when initialized == false, meaning that there are no more ticks to check in this word, the next ticks are 32 or 64 which are also the first ticks in a new word."
   ]
  },
  {
   "cell_type": "code",
   "execution_count": 783,
   "metadata": {},
   "outputs": [
    {
     "name": "stdout",
     "output_type": "stream",
     "text": [
      "\n",
      "Are there ticks left:  False\n",
      "Next tick:  32\n",
      "\n",
      "Are there ticks left:  True\n",
      "Next tick:  61\n",
      "\n",
      "Are there ticks left:  False\n",
      "Next tick:  64\n",
      "\n",
      "Are there ticks left:  True\n",
      "Next tick:  66\n"
     ]
    }
   ],
   "source": [
    "\n",
    "for i in range(4):\n",
    "    currentTick = next\n",
    "    wordIndex, localTickIndex = position(currentTick + 1)\n",
    "\n",
    "    mask = ~((1 << localTickIndex) - 1) + (1 << 32)\n",
    "    masked = bitmap[wordIndex] & mask\n",
    "\n",
    "    initialized = masked != 0\n",
    "\n",
    "    if initialized:\n",
    "        next = currentTick + 1 + (leastSignificantBit(masked) - localTickIndex)\n",
    "    else:\n",
    "        next = currentTick + 1 + 32 - localTickIndex\n",
    "    \n",
    "    print(\"\\nAre there ticks left: \", initialized)\n",
    "    print(\"Next tick: \", next)\n",
    "\n",
    "currentTick = next\n"
   ]
  },
  {
   "cell_type": "markdown",
   "metadata": {},
   "source": [
    "### Finding Next Tick for Swaps 1 to 0"
   ]
  },
  {
   "cell_type": "markdown",
   "metadata": {},
   "source": [
    "The current tick is 66 and our goal is to efficiently iterate back to the first tick (at index 1)."
   ]
  },
  {
   "cell_type": "markdown",
   "metadata": {},
   "source": [
    "To find the next index within a word, we first have to construct a mask which sets every bit with an index less than or equal to the index of the local tick index to 1. \n",
    "\n",
    "An efficient way to do this is to first bitshift a 1 into the index of the local tick index. By subtracting 1 from this number we make it so every bit before the local index is now a 1. Finally we add rightly shifted 1 over the the same number of times as the local tick index. This is to make the index corresponding to the local tick index also 1 for the mask."
   ]
  },
  {
   "cell_type": "code",
   "execution_count": 784,
   "metadata": {},
   "outputs": [
    {
     "name": "stdout",
     "output_type": "stream",
     "text": [
      "\n",
      "mask = 1 << localTickIndex\n",
      "00000000000000000000000000000100\n",
      "\n",
      "mask -= 1\n",
      "00000000000000000000000000000011\n",
      "\n",
      "mask += 1 << localTickIndex\n",
      "00000000000000000000000000000111\n",
      "\n",
      "mask = ~((1 << localTickIndex) - 1) + (1 << 32)\n",
      "00000000000000000000000000000111\n",
      "\n",
      "bitmap[wordIndex]\n",
      "00000000000000000000000000000100\n"
     ]
    }
   ],
   "source": [
    "wordIndex, localTickIndex = position(currentTick)\n",
    "\n",
    "print(\"\\nmask = 1 << localTickIndex\")\n",
    "mask = 1 << localTickIndex\n",
    "print(\"{0:032b}\".format(mask))\n",
    "\n",
    "print(\"\\nmask -= 1\")\n",
    "mask -= 1 \n",
    "print(\"{0:032b}\".format(mask))\n",
    "\n",
    "print(\"\\nmask += 1 << localTickIndex\")\n",
    "mask += 1 << localTickIndex\n",
    "print(\"{0:032b}\".format(mask))\n",
    "\n",
    "# In a single line it looks as follows:\n",
    "print(\"\\nmask = ~((1 << localTickIndex) - 1) + (1 << 32)\")\n",
    "mask = (1 << localTickIndex) - 1 + (1 << localTickIndex)\n",
    "print(\"{0:032b}\".format(mask))\n",
    "\n",
    "print(\"\\nbitmap[wordIndex]\")\n",
    "print(\"{0:032b}\".format(bitmap[wordIndex]))"
   ]
  },
  {
   "cell_type": "markdown",
   "metadata": {},
   "source": [
    "We create the masked version of the word the same as for the other direction (0 to 1) and evaluate whether there are any ticks left below the current tick."
   ]
  },
  {
   "cell_type": "code",
   "execution_count": 785,
   "metadata": {},
   "outputs": [
    {
     "name": "stdout",
     "output_type": "stream",
     "text": [
      "\n",
      "masked = bitmap[wordIndex] & mask\n",
      "00000000000000000000000000000100\n",
      "True\n"
     ]
    }
   ],
   "source": [
    "print(\"\\nmasked = bitmap[wordIndex] & mask\")\n",
    "masked = bitmap[wordIndex] & mask\n",
    "print(\"{0:032b}\".format(masked))\n",
    "\n",
    "initialized = masked != 0\n",
    "\n",
    "# Will evaluate to False since there are not bits >62 and <66\n",
    "print(initialized)"
   ]
  },
  {
   "cell_type": "markdown",
   "metadata": {},
   "source": [
    "Most significant bit is a way to find the next (smaller) initialized tick. It requires that the input x is not 0 since we should just skip to the next word in that case.\n",
    "\n",
    "The function relies on a parameter for the next index r being incremented sufficiently. It ensures this by iteratively checking if the masked word is greater than some number which helps tell us something about the next tick's bit index.\n",
    "\n",
    "This can be confusing, but one way to understand what's going on is:\n",
    "- We can at most bitshift right 31 places (31 = 16 + 8 + 4 + 2 + 1), \n",
    "- When the next tick (highest index lower than current) in the masked word x is at an index greater than or equal to 16, we know that x >= 2 ** 16 = 1 << 16. \n",
    "- By bitshifting right 16 places in this case and adding 16 to r, we are saying that 16 <= r <= 31 since we can now only increment r by 15 at maximum (15 = 8 + 4 + 2 + 1)\n",
    "- If the next tick (highest index lower than current) in the masked word x had been at an index less than 16 then we would have done nothing (r = 10 still) telling us that r <= 15 since we can max increment r by 15.\n",
    "- Repeat for 8, 4, 2, 1\n",
    "\n",
    "*Note this is basically a binary search for finding the next tick number*"
   ]
  },
  {
   "cell_type": "code",
   "execution_count": 786,
   "metadata": {},
   "outputs": [],
   "source": [
    "def mostSignificantBit(x : int) -> int: \n",
    "    assert x != 0\n",
    "\n",
    "    r = 0\n",
    "    #print(\"\\n\")\n",
    "    #print(\"x:\", \"{0:032b}\".format(x))\n",
    "    #print(\"r:\", r)\n",
    "    #print(\"1 << 16:\", \"{0:032b}\".format((1 << 16)))\n",
    "    if (x >= (1 << 16)):\n",
    "        r += 16\n",
    "        x >>= 16\n",
    "    #print(\"\\n\")\n",
    "    #print(\"x:\", \"{0:032b}\".format(x))\n",
    "    #print(\"r:\", r)\n",
    "    #print(\"1 << 8:\", \"{0:032b}\".format(1 << 8))\n",
    "    if (x >= (1 << 8)):\n",
    "        r += 8\n",
    "        x >>= 8\n",
    "    #print(\"\\n\")\n",
    "    #print(\"x:\", \"{0:032b}\".format(x))\n",
    "    #print(\"r:\", r)\n",
    "    #print(\"1 << 4:\", \"{0:032b}\".format(1 << 4))\n",
    "    if (x >= (1 << 4)):\n",
    "        r += 4\n",
    "        x >>= 4\n",
    "    #print(\"\\n\")\n",
    "    #print(\"x:\", \"{0:032b}\".format(x))\n",
    "    #print(\"r:\", r)\n",
    "    if (x >= 4):\n",
    "        r += 2\n",
    "        x >>= 2\n",
    "    #print(\"\\n\")\n",
    "    #print(\"x:\", \"{0:032b}\".format(x))\n",
    "    #print(\"r:\", r)\n",
    "    if (x >= 2):\n",
    "        r += 1\n",
    "    return r"
   ]
  },
  {
   "cell_type": "markdown",
   "metadata": {},
   "source": [
    "If initialized is false, there are no ticks left in this direction so we signal that the next tick to check is going to be the first bit in the following word. When we run the code, we see that the correct next tick was found (64) since there were no more ticks less than 66 and within this word!"
   ]
  },
  {
   "cell_type": "code",
   "execution_count": 787,
   "metadata": {},
   "outputs": [
    {
     "name": "stdout",
     "output_type": "stream",
     "text": [
      "check\n",
      "62\n"
     ]
    }
   ],
   "source": [
    "if initialized:\n",
    "    print(\"check\")\n",
    "    next = currentTick - localTickIndex - mostSignificantBit(masked)\n",
    "else:\n",
    "    print(\"check2\")\n",
    "    next = currentTick - localTickIndex\n",
    "\n",
    "print(next)"
   ]
  },
  {
   "cell_type": "markdown",
   "metadata": {},
   "source": [
    "### Final Next Tick Function"
   ]
  },
  {
   "cell_type": "markdown",
   "metadata": {},
   "source": [
    "Putting it all together..."
   ]
  },
  {
   "cell_type": "code",
   "execution_count": 788,
   "metadata": {},
   "outputs": [],
   "source": [
    "def nextInitTickWithinWord(bitmap : dict, \n",
    "                        currentTick : int,\n",
    "                        inputToken : int ) -> Tuple[int, bool]:\n",
    " \n",
    "    # Next tick calculations for trades from token 1 to 0\n",
    "    if inputToken:\n",
    "        None\n",
    "    # Next tick calculations for trades from token 0 to 1\n",
    "    else:\n",
    "        wordIndex, localTickIndex = position(currentTick + 1)\n",
    "\n",
    "        mask = ~((1 << localTickIndex) - 1) + (1 << 32)\n",
    "        masked = bitmap[wordIndex] & mask\n",
    "        \n",
    "        initialized = masked != 0\n",
    "\n",
    "        if initialized:\n",
    "            next = currentTick + 1 + (leastSignificantBit(masked) - localTickIndex)\n",
    "        else:\n",
    "            next = currentTick + 1 + (1 << 32) - 1 - localTickIndex\n",
    "\n",
    "    return (next )"
   ]
  },
  {
   "cell_type": "markdown",
   "metadata": {},
   "source": [
    "Hopefully this has been helpful :)"
   ]
  }
 ],
 "metadata": {
  "kernelspec": {
   "display_name": "Python 3.8.3 64-bit",
   "language": "python",
   "name": "python3"
  },
  "language_info": {
   "codemirror_mode": {
    "name": "ipython",
    "version": 3
   },
   "file_extension": ".py",
   "mimetype": "text/x-python",
   "name": "python",
   "nbconvert_exporter": "python",
   "pygments_lexer": "ipython3",
   "version": "3.8.3"
  },
  "orig_nbformat": 4,
  "vscode": {
   "interpreter": {
    "hash": "aee8b7b246df8f9039afb4144a1f6fd8d2ca17a180786b69acc140d282b71a49"
   }
  }
 },
 "nbformat": 4,
 "nbformat_minor": 2
}
